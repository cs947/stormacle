{
 "cells": [
  {
   "cell_type": "code",
   "execution_count": 1,
   "metadata": {
    "collapsed": false
   },
   "outputs": [],
   "source": [
    "import urllib2, re, os, gzip\n",
    "from io import BytesIO"
   ]
  },
  {
   "cell_type": "code",
   "execution_count": 2,
   "metadata": {
    "collapsed": false
   },
   "outputs": [],
   "source": [
    "#Specify target location for files\n",
    "folder = \"Data\"\n",
    "\n",
    "if not os.path.exists(folder): # Directory that I want to save the image to\n",
    "    os.mkdir(folder) # If no directory create it"
   ]
  },
  {
   "cell_type": "code",
   "execution_count": 3,
   "metadata": {
    "collapsed": true
   },
   "outputs": [],
   "source": [
    "#Source of NWS data\n",
    "url = \"https://www1.ncdc.noaa.gov/pub/data/swdi/stormevents/csvfiles/\"\n",
    "source = urllib2.urlopen(url).read()"
   ]
  },
  {
   "cell_type": "code",
   "execution_count": 4,
   "metadata": {
    "collapsed": true
   },
   "outputs": [],
   "source": [
    "#Files we are interested in: data from 1996-2019\n",
    "zips = re.findall('StormEvents\\_(?=fatalities|details|locations).*d(?=199[6-9]|20[0-9][0-9]).*\\.gz(?=\")',source, re.M)"
   ]
  },
  {
   "cell_type": "code",
   "execution_count": null,
   "metadata": {
    "collapsed": true
   },
   "outputs": [],
   "source": [
    "for z in zips:\n",
    "    remote = url + z;\n",
    "    target = folder + \"/\" \n",
    "    \n",
    "    year = re.findall('(?<=d)[0-9]{4}',z)    #regex matching to find year of data\n",
    "    if len(year) != 1:\n",
    "        print \"Can't find year of file!): \"+z\n",
    "    else:\n",
    "        year = year[0]\n",
    "        \n",
    "    if \"details\" in z:    #matching to find type of data\n",
    "        target += \"Details_\"+year+\".csv\"\n",
    "    elif \"fatalities\" in z:\n",
    "        target += \"Fatalities_\"+year+\".csv\"\n",
    "    elif \"locations\" in z:\n",
    "        target += \"Locations_\"+year+\".csv\"\n",
    "    else:\n",
    "        print \"Unexpected file (not about details, fatalities, or locations!): \"+z\n",
    "        continue\n",
    "        \n",
    "    print \"Copying from \" + remote + \" and unzipping to \" + target\n",
    "    if not os.path.exists(target):\n",
    "        resp = urllib2.urlopen(remote)\n",
    "        compressed_file = BytesIO(resp.read())\n",
    "        \n",
    "        f = gzip.GzipFile(fileobj=compressed_file, mode='rb')\n",
    "        s = f.read()\n",
    "        f.close()\n",
    "\n",
    "        output = open(target, 'wb')\n",
    "        output.write(s)\n",
    "        output.close()\n",
    "        \n",
    "print(\"done!\")"
   ]
  }
 ],
 "metadata": {
  "anaconda-cloud": {},
  "kernelspec": {
   "display_name": "Python [Root]",
   "language": "python",
   "name": "Python [Root]"
  },
  "language_info": {
   "codemirror_mode": {
    "name": "ipython",
    "version": 2
   },
   "file_extension": ".py",
   "mimetype": "text/x-python",
   "name": "python",
   "nbconvert_exporter": "python",
   "pygments_lexer": "ipython2",
   "version": "2.7.12"
  }
 },
 "nbformat": 4,
 "nbformat_minor": 0
}
