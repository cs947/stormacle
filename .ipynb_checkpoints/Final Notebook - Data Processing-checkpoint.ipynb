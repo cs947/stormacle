{
 "cells": [
  {
   "cell_type": "code",
   "execution_count": 1,
   "metadata": {
    "collapsed": false
   },
   "outputs": [],
   "source": [
    "# Packages for general use\n",
    "import numpy as np\n",
    "import pandas as pd\n",
    "\n",
    "# For handling data\n",
    "from sklearn import preprocessing\n",
    "import rasterio as rio\n",
    "\n",
    "# Modeling\n",
    "from sklearn import linear_model\n",
    "from sklearn.tree import DecisionTreeRegressor\n",
    "from sklearn.model_selection import train_test_split\n",
    "from sklearn.model_selection import cross_val_score"
   ]
  },
  {
   "cell_type": "markdown",
   "metadata": {},
   "source": [
    "# Data Loading and Wrangling"
   ]
  },
  {
   "cell_type": "code",
   "execution_count": 2,
   "metadata": {
    "collapsed": true
   },
   "outputs": [],
   "source": [
    "# Land cover data and functions\n",
    "\n",
    "lc_file = rio.open(\"Data/LandCoverData.tif\")\n",
    "lc_map = lc_file.read(1)\n",
    "\n",
    "def location_to_geo_data(lon, lat): \n",
    "    #transforms coordinates (longitude, latitude) into geographic data found in raster file\n",
    "    if np.isnan(lon) or np.isnan(lat):\n",
    "        return -1 #np.nan; NOTE: 0 denotes no class available for our purposes; \n",
    "                 #   the original raster file data is indexed from 0-16, which we will shift into 1-17 to compensate for 0\n",
    "    else:\n",
    "        x,y = lc_file.index(lon,lat)\n",
    "        return lc_map[x,y]+1\n",
    "\n",
    "extract_geo_data = np.vectorize(location_to_geo_data)"
   ]
  },
  {
   "cell_type": "code",
   "execution_count": 3,
   "metadata": {
    "collapsed": false
   },
   "outputs": [],
   "source": [
    "# Functions for manipulating raw data\n",
    "# Extraction\n",
    "\n",
    "def extract_files_of_year(year):\n",
    "    #reads csv files\n",
    "    \n",
    "    deets = pd.read_csv(\"Data/Details_\"+str(year)+\".csv\")\n",
    "    locs = pd.read_csv(\"Data/Locations_\"+str(year)+\".csv\")\n",
    "    fatals = pd.read_csv(\"Data/Fatalities_\"+str(year)+\".csv\")\n",
    "    \n",
    "    #print(deets.columns)\n",
    "    #print(locs.columns)\n",
    "    #print(fatals.columns,\"\\n done extracting!\")   \n",
    "    return deets, locs, fatals\n",
    "\n",
    "# Transformations\n",
    "\n",
    "def filter_and_join(deets, locs, fatals):\n",
    "    #performs all filters and joins on data for details, locations, and fatalities\n",
    "    \n",
    "    death_cols = ['DEATHS_DIRECT','DEATHS_INDIRECT']\n",
    "    \n",
    "    events = deets[deets[death_cols].sum(axis=1)>0.0]    #restrict scope to events that have fatalities\n",
    "    events = pd.merge(events, locs, on=['EPISODE_ID','EVENT_ID'], how='left')\n",
    "    \n",
    "    #print(events.columns)\n",
    "    \n",
    "    events = events.loc[:,~events.columns.duplicated()]   #remove duplicate columns from merging\n",
    "    return events\n",
    "\n",
    "def transform_deets(deets):\n",
    "    #Group storm events into broader by closely related categories\n",
    "    aliases = ['EVENT_TYPE', 'END_DATE_TIME', 'BEGIN_DATE_TIME']\n",
    "    a = deets[aliases[0]].copy()\n",
    "    a[a.str.match(\".*Flood$\")] = \"Flood\"\n",
    "    a[a.str.match(\".*Wind$\")] = \"Wind\"\n",
    "    a[a.str.contains(\".*Hail$\")] = \"Hail\"\n",
    "    deets[aliases[0]] = a\n",
    "    \n",
    "    death_cols = ['DEATHS_DIRECT','DEATHS_INDIRECT']\n",
    "    \n",
    "    deets['DURATION'] = (pd.to_datetime(deets[aliases[1]]).subtract(pd.to_datetime(deets[aliases[1]]))\n",
    "                        ).astype('timedelta64[h]')\n",
    "    deets['DEATHS'] = deets[death_cols].sum(axis=1)\n",
    "    #deets['DAMAGES'] = deets[damage_cols].sum(axis=1) #need to parse strings, and convert to numeric!\n",
    "    #print(\"done with deets!\")\n",
    "    return deets\n",
    "\n",
    "def transform_locs(locs):\n",
    "    #Impute if necessary, then map coordinates to land-cover classes\n",
    "    #print(\"loc columns: \",locs.columns)\n",
    "    aliases = ['LONGITUDE','LATITUDE','BEGIN_LON','BEGIN_LAT']\n",
    "    \n",
    "    locs['LONGITUDE'] = locs[aliases[0]].fillna(locs[aliases[2]])  #impute values from another column with coordinates\n",
    "    locs['LATITUDE'] = locs[aliases[1]].fillna(locs[aliases[3]]) \n",
    "    locs['LAND_COVER_CLASS'] = extract_geo_data(locs[aliases[0]],locs[aliases[1]])\n",
    "    return locs\n",
    "    \n",
    "def transform_fatals(fatals):\n",
    "    #Repaired entries of the fatalities file to match documentation description\n",
    "    aliases = ['FATALITY_LOCATION']\n",
    "    a = fatals[aliases[0]].copy()\n",
    "    a[a.str.match(\"Boat.*\")] = \"Boating\"\n",
    "    a[a.str.match(\"Other|Unknown\")] = \"Other/Unknown\"\n",
    "    fatals[aliases[0]] = a\n",
    "    \n",
    "    return fatals\n",
    "\n",
    "def assemble_data_sets_of_year(year):\n",
    "    #Extracts and transforms all data files of a given year\n",
    "    deets, locs, fatals = extract_files_of_year(year)\n",
    "    events = filter_and_join(deets, locs, fatals)\n",
    "    events = (events\n",
    "        .pipe(transform_deets)\n",
    "        .pipe(transform_locs)\n",
    "    )\n",
    "    fatals = transform_fatals(fatals)\n",
    "    \n",
    "    #desired_event_columns = ['EVENT_ID', 'EVENT_TYPE', 'MAGNITUDE', 'FLOOD_CAUSE', 'LONGITUDE', 'LATITUDE',\n",
    "    #                         'TOR_F_SCALE', 'TOR_LENGTH', 'TOR_WIDTH', 'EPISODE_NARRATIVE', 'EVENT_NARRATIVE', \n",
    "    #                         'DURATION', 'LAND_COVER_CLASS', 'DEATHS', 'STATE','CZ_NAME']\n",
    "    #events = events[desired_event_columns] \n",
    "    return events, fatals"
   ]
  },
  {
   "cell_type": "markdown",
   "metadata": {},
   "source": [
    "Note that in years 1996-2005, no data was collected on the FLOOD_CAUSE column."
   ]
  },
  {
   "cell_type": "code",
   "execution_count": 51,
   "metadata": {
    "collapsed": false
   },
   "outputs": [],
   "source": [
    "#Extract, transform, and load data from years [1996, 2020)\n",
    "\n",
    "events, fatals = zip(*[assemble_data_sets_of_year(year) for year in range(2006, 2020)])\n",
    "all_events = pd.concat(events)\n",
    "all_events['LAND_COVER_CLASS'] = all_events['LAND_COVER_CLASS'].replace(-1,np.nan)\n",
    "all_fatals = pd.concat(fatals)"
   ]
  },
  {
   "cell_type": "code",
   "execution_count": 35,
   "metadata": {
    "collapsed": false
   },
   "outputs": [],
   "source": [
    "# Accumulate all locations of fatalities for each event, and merge with event details\n",
    "\n",
    "l = ['EVENT_ID','FATALITY_LOCATION']\n",
    "to_agg = all_fatals[l]\n",
    "to_merge = to_agg.groupby(['EVENT_ID'], as_index=False).agg({'FATALITY_LOCATION': lambda s: tuple(pd.unique(s))})\n",
    "all_events_with_fatals = pd.merge(all_events, to_merge, on=['EVENT_ID'], how='left')"
   ]
  },
  {
   "cell_type": "markdown",
   "metadata": {},
   "source": [
    "# Observations"
   ]
  },
  {
   "cell_type": "markdown",
   "metadata": {},
   "source": [
    "## Visual Distribution"
   ]
  },
  {
   "cell_type": "code",
   "execution_count": 5,
   "metadata": {
    "collapsed": true
   },
   "outputs": [],
   "source": [
    "import matplotlib.pyplot as plt\n",
    "%matplotlib inline"
   ]
  },
  {
   "cell_type": "code",
   "execution_count": 9,
   "metadata": {
    "collapsed": false
   },
   "outputs": [
    {
     "data": {
      "text/plain": [
       "[]"
      ]
     },
     "execution_count": 9,
     "metadata": {},
     "output_type": "execute_result"
    },
    {
     "data": {
      "image/png": "[encoded data removed]",
      "text/plain": [
       "<matplotlib.figure.Figure at 0x156bcbd0>"
      ]
     },
     "metadata": {},
     "output_type": "display_data"
    }
   ],
   "source": [
    "df_with_location = all_events_with_fatals[[\"LONGITUDE\",\"LATITUDE\"]]\n",
    "plt.figure(figsize=(10,7.5))\n",
    "plt.scatter(df_with_location[\"LONGITUDE\"],df_with_location[\"LATITUDE\"],s=0.1)\n",
    "plt.xlim((-130,-65))\n",
    "plt.ylim((20,55))\n",
    "plt.title(\"Location distribution of Fatalities\",fontsize=30)\n",
    "plt.xlabel(\"Longitude\",fontsize=20)\n",
    "plt.ylabel(\"Latitude\",fontsize=20)\n",
    "plt.plot()"
   ]
  },
  {
   "cell_type": "markdown",
   "metadata": {},
   "source": [
    "# Feature Engineering"
   ]
  },
  {
   "cell_type": "markdown",
   "metadata": {},
   "source": [
    "## Proximity to Hospitals (Care Facilities), Number of Hospitals in County + State\n",
    "\n",
    "Link to hospital dataset: https://hifld-geoplatform.opendata.arcgis.com/datasets/hospitals/geoservice"
   ]
  },
  {
   "cell_type": "code",
   "execution_count": 12,
   "metadata": {
    "collapsed": true
   },
   "outputs": [],
   "source": [
    "from scipy import spatial\n",
    "import requests, json"
   ]
  },
  {
   "cell_type": "code",
   "execution_count": 10,
   "metadata": {
    "collapsed": true
   },
   "outputs": [],
   "source": [
    "def cartesian(latitude, longitude, elevation = 0):\n",
    "    # Convert to radians\n",
    "    latitude = latitude * (np.pi / 180)\n",
    "    longitude = longitude * (np.pi / 180)\n",
    "\n",
    "    R = 6371 + elevation  # radius of earth in km\n",
    "    X = R * np.cos(latitude) * np.cos(longitude)\n",
    "    Y = R * np.cos(latitude) * np.sin(longitude)\n",
    "    Z = R * np.sin(latitude)\n",
    "    return np.column_stack(np.array([X, Y, Z]))\n",
    "\n",
    "def closest_loc(lat, lon, tree):\n",
    "    cartesian_coord = cartesian(lat, lon)\n",
    "    dist, index = tree.query(cartesian_coord, p = 2) #query runs in linear time w.r.t. input size, sub-linear w.r.t. KDtree size\n",
    "    return dist\n",
    "\n",
    "state_abbrev = [\"AL\", \"AK\", \"AZ\", \"AR\", \"CA\", \"CO\", \"CT\", \"DC\", \"DE\", \"FL\", \"GA\", \n",
    "          \"HI\", \"ID\", \"IL\", \"IN\", \"IA\", \"KS\", \"KY\", \"LA\", \"ME\", \"MD\", \n",
    "          \"MA\", \"MI\", \"MN\", \"MS\", \"MO\", \"MT\", \"NE\", \"NV\", \"NH\", \"NJ\", \n",
    "          \"NM\", \"NY\", \"NC\", \"ND\", \"OH\", \"OK\", \"OR\", \"PA\", \"RI\", \"SC\", \n",
    "          \"SD\", \"TN\", \"TX\", \"UT\", \"VT\", \"VA\", \"WA\", \"WV\", \"WI\", \"WY\"]\n",
    "state_names = [\"ALABAMA\", \"ALASKA\", \"ARIZONA\", \"ARKANSAS\", \"CALIFORNIA\", \"COLORADO\",\n",
    "          \"CONNECTICUT\", \"DELAWARE\", \"FLORIDA\", \"GEORGIA\", \"HAWAII\", \"IDAHO\", \"ILLINOIS\",\n",
    "          \"INDIANA\", \"IOWA\", \"KANSAS\", \"KENTUCKY\", \"LOUISIANA\", \"MAINE\", \"MARYLAND\",\n",
    "          \"MASSACHUSETTS\", \"MICHIGAN\", \"MINNESOTA\", \"MISSISSIPPI\", \"MISSOURI\", \"MONTANA\",\n",
    "          \"NEBRASKA\", \"NEVADA\", \"NEW HAMPSHIRE\", \"NEW JERSEY\", \"NEW MEXICO\", \"NEW YORK\",\n",
    "          \"NORTH CAROLINA\", \"NORTH DAKOTA\", \"OHIO\", \"OKLAHOMA\", \"OREGON\", \"PENNSYLVANIA\",\n",
    "          \"RHODE ISLAND\", \"SOUTH CAROLINA\", \"SOUTH DAKOTA\", \"TENNESSEE\", \"TEXAS\", \"UTAH\",\n",
    "          \"VERMONT\", \"VIRGINIA\", \"WASHINGTON\", \"WEST VIRGINIA\", \"WISCONSIN\", \"WYOMING\"]\n",
    "state_ref_dict = dict(zip(state_abbrev, state_names))"
   ]
  },
  {
   "cell_type": "code",
   "execution_count": 13,
   "metadata": {
    "collapsed": false
   },
   "outputs": [],
   "source": [
    "acc = []\n",
    "for abb in state_abbrev:\n",
    "    query_url = \"https://services1.arcgis.com/Hp6G80Pky0om7QvQ/arcgis/rest/services/Hospitals_1/FeatureServer/0/query?where=STATUS%20%3D%20'OPEN'%20AND%20STATE%20like%20'%25\"+abb+\"%25'&outFields=NAME,STATE,ZIP,LONGITUDE,COUNTY,LATITUDE&outSR=4326&f=json\"\n",
    "    hospitals_json = requests.get(query_url)\n",
    "    df = pd.DataFrame.from_records(pd.DataFrame(hospitals_json.json()['features'])['attributes'])\n",
    "    acc.append(df)"
   ]
  },
  {
   "cell_type": "code",
   "execution_count": 14,
   "metadata": {
    "collapsed": false,
    "scrolled": true
   },
   "outputs": [],
   "source": [
    "hospitals_df = pd.concat(acc)\n",
    "hospitals_df['STATE'] = hospitals_df['STATE'].map(state_ref_dict)\n",
    "hospitals_locs = cartesian(hospitals_df[\"LATITUDE\"].values, hospitals_df[\"LONGITUDE\"].values)\n",
    "tree = spatial.KDTree(hospitals_locs)"
   ]
  },
  {
   "cell_type": "code",
   "execution_count": 36,
   "metadata": {
    "collapsed": false
   },
   "outputs": [],
   "source": [
    "#Find distance to nearest hospital\n",
    "\n",
    "all_events_with_fatals['CLOSEST_HOSPITAL_DIST'] = closest_loc(df_with_location[\"LATITUDE\"].values, df_with_location[\"LONGITUDE\"].values, tree)\n",
    "all_events_with_fatals['CLOSEST_HOSPITAL_DIST'] = all_events_with_fatals['CLOSEST_HOSPITAL_DIST'].replace(np.inf, np.nan)"
   ]
  },
  {
   "cell_type": "code",
   "execution_count": 37,
   "metadata": {
    "collapsed": false
   },
   "outputs": [],
   "source": [
    "#Find number of hospitals in each county and state\n",
    "\n",
    "county_hospital_counts = (\n",
    "    hospitals_df\n",
    "    .groupby(['STATE','COUNTY'], as_index=False)\n",
    "    .agg({'NAME':'count'})\n",
    "    .rename(columns={'NAME':'NUM_COUNTY_HOSPITALS', 'COUNTY':'CZ_NAME'})\n",
    ")\n",
    "state_hospital_counts = (\n",
    "    hospitals_df\n",
    "    .groupby(['STATE'], as_index=False)\n",
    "    .agg({'NAME':'count'})\n",
    "    .rename(columns={'NAME':'NUM_STATE_HOSPITALS'})\n",
    ")\n",
    "all_events_with_fatals = pd.merge(all_events_with_fatals, county_hospital_counts, on=['STATE','CZ_NAME'], how='left')\n",
    "all_events_with_fatals = pd.merge(all_events_with_fatals, state_hospital_counts, on=['STATE'], how='left')"
   ]
  },
  {
   "cell_type": "code",
   "execution_count": 41,
   "metadata": {
    "collapsed": false
   },
   "outputs": [],
   "source": [
    "#Impute missing values with zeroes since they are counts\n",
    "\n",
    "all_events_with_fatals['NUM_COUNTY_HOSPITALS'].fillna(0, inplace=True)\n",
    "all_events_with_fatals['NUM_STATE_HOSPITALS'].fillna(0, inplace=True)"
   ]
  },
  {
   "cell_type": "markdown",
   "metadata": {},
   "source": [
    "## Extracting Features from Text"
   ]
  },
  {
   "cell_type": "code",
   "execution_count": 46,
   "metadata": {
    "collapsed": true
   },
   "outputs": [],
   "source": [
    "#Impute, then create features\n",
    "\n",
    "all_events_with_fatals['EPISODE_NARRATIVE'].fillna('', inplace=True)\n",
    "all_events_with_fatals['EVENT_NARRATIVE'].fillna('', inplace=True)\n",
    "\n",
    "all_events_with_fatals['EPISODE_LENGTH'] = all_events_with_fatals['EPISODE_NARRATIVE'].str.split().str.len()\n",
    "all_events_with_fatals['EVENT_LENGTH'] = all_events_with_fatals['EVENT_NARRATIVE'].str.split().str.len()"
   ]
  },
  {
   "cell_type": "code",
   "execution_count": 47,
   "metadata": {
    "collapsed": false
   },
   "outputs": [
    {
     "data": {
      "text/plain": [
       "Index([u'BEGIN_YEARMONTH', u'BEGIN_DAY', u'BEGIN_TIME', u'END_YEARMONTH',\n",
       "       u'END_DAY', u'END_TIME', u'EPISODE_ID', u'EVENT_ID', u'STATE',\n",
       "       u'STATE_FIPS', u'YEAR', u'MONTH_NAME', u'EVENT_TYPE', u'CZ_TYPE',\n",
       "       u'CZ_FIPS', u'CZ_NAME', u'WFO', u'BEGIN_DATE_TIME', u'CZ_TIMEZONE',\n",
       "       u'END_DATE_TIME', u'INJURIES_DIRECT', u'INJURIES_INDIRECT',\n",
       "       u'DEATHS_DIRECT', u'DEATHS_INDIRECT', u'DAMAGE_PROPERTY',\n",
       "       u'DAMAGE_CROPS', u'SOURCE', u'MAGNITUDE', u'MAGNITUDE_TYPE',\n",
       "       u'FLOOD_CAUSE', u'CATEGORY', u'TOR_F_SCALE', u'TOR_LENGTH',\n",
       "       u'TOR_WIDTH', u'TOR_OTHER_WFO', u'TOR_OTHER_CZ_STATE',\n",
       "       u'TOR_OTHER_CZ_FIPS', u'TOR_OTHER_CZ_NAME', u'BEGIN_RANGE',\n",
       "       u'BEGIN_AZIMUTH', u'BEGIN_LOCATION', u'END_RANGE', u'END_AZIMUTH',\n",
       "       u'END_LOCATION', u'BEGIN_LAT', u'BEGIN_LON', u'END_LAT', u'END_LON',\n",
       "       u'EPISODE_NARRATIVE', u'EVENT_NARRATIVE', u'DATA_SOURCE', u'YEARMONTH',\n",
       "       u'LOCATION_INDEX', u'RANGE', u'AZIMUTH', u'LOCATION', u'LATITUDE',\n",
       "       u'LONGITUDE', u'LAT2', u'LON2', u'DURATION', u'DEATHS',\n",
       "       u'LAND_COVER_CLASS', u'FATALITY_LOCATION', u'CLOSEST_HOSPITAL_DIST',\n",
       "       u'NUM_COUNTY_HOSPITALS', u'NUM_STATE_HOSPITALS', u'EPISODE_LENGTH',\n",
       "       u'EVENT_LENGTH'],\n",
       "      dtype='object')"
      ]
     },
     "execution_count": 47,
     "metadata": {},
     "output_type": "execute_result"
    }
   ],
   "source": [
    "all_events_with_fatals.columns"
   ]
  },
  {
   "cell_type": "code",
   "execution_count": 55,
   "metadata": {
    "collapsed": false
   },
   "outputs": [
    {
     "data": {
      "text/plain": [
       "(4100, 4100)"
      ]
     },
     "execution_count": 55,
     "metadata": {},
     "output_type": "execute_result"
    }
   ],
   "source": [
    "#Proof that no more coordinates can be imputed\n",
    "np.sum(all_events_with_fatals['LATITUDE'].isna()), np.sum((all_events_with_fatals['LATITUDE'].fillna(all_events_with_fatals['LAT2'])).isna())"
   ]
  },
  {
   "cell_type": "markdown",
   "metadata": {},
   "source": [
    "## Subsetting and Encoding"
   ]
  },
  {
   "cell_type": "code",
   "execution_count": 48,
   "metadata": {
    "collapsed": true
   },
   "outputs": [],
   "source": [
    "desired_event_columns = [\n",
    "    'EVENT_TYPE', 'MAGNITUDE', 'FLOOD_CAUSE', \n",
    "    'TOR_F_SCALE', 'TOR_LENGTH', 'TOR_WIDTH', \n",
    "    'DURATION', 'LAND_COVER_CLASS', 'FATALITY_LOCATION', #Computed or combined columns from other sources\n",
    "    'CLOSEST_HOSPITAL_DIST', 'NUM_COUNTY_HOSPITALS', 'NUM_STATE_HOSPITALS', #From hospital data\n",
    "    'EPISODE_LENGTH', 'EVENT_LENGTH', #From text\n",
    "    'DEATHS'\n",
    "]"
   ]
  },
  {
   "cell_type": "code",
   "execution_count": 49,
   "metadata": {
    "collapsed": true
   },
   "outputs": [],
   "source": [
    "all_events_feats = all_events_with_fatals[desired_event_columns]"
   ]
  },
  {
   "cell_type": "code",
   "execution_count": 50,
   "metadata": {
    "collapsed": false
   },
   "outputs": [],
   "source": [
    "#Encoding\n",
    "\n",
    "#One-hot encoding\n",
    "all_events_feats = (all_events_with_fatals\n",
    "    .pipe(pd.get_dummies, prefix_sep='_', drop_first=False, columns=['FLOOD_CAUSE','LAND_COVER_CLASS'])\n",
    "    .pipe(pd.get_dummies, prefix_sep='_', drop_first=False, columns=['TOR_F_SCALE']) #ordinal encoding (temporarily as one-hot)\n",
    ")\n",
    "\n",
    "#Multi-hot encoding\n",
    "mlb = preprocessing.MultiLabelBinarizer()\n",
    "feature_column_name = 'FATALITY_LOCATION'\n",
    "feature_column = all_events_feats[feature_column_name]\n",
    "\n",
    "mask = feature_column.notnull() #Save location non-missing values, allows us to restore original indices after filtering na's\n",
    "\n",
    "feature_matrix = mlb.fit_transform(all_events_feats[feature_column_name].dropna()) #Drop missing values and encode\n",
    "\n",
    "df = pd.DataFrame(feature_matrix, index=all_events_feats.index[mask], columns=feature_column_name+\"_\"+mlb.classes_) \\\n",
    "    .reindex(all_events_feats.index, fill_value=0)  #restore original matrix with missing values - encoded as all 0's\n",
    "    \n",
    "all_events_feats = all_events_feats.join(df).drop([feature_column_name], axis=1)"
   ]
  },
  {
   "cell_type": "markdown",
   "metadata": {},
   "source": [
    "### Idea: Keyword extraction from narratives?"
   ]
  },
  {
   "cell_type": "code",
   "execution_count": null,
   "metadata": {
    "collapsed": false
   },
   "outputs": [],
   "source": [
    "from rake_nltk import Rake\n",
    "\n",
    "# Uncomment lines below if Rake requires resources\n",
    "#import nltk\n",
    "#nltk.download('stopwords')\n",
    "#nltk.download('punkt')"
   ]
  },
  {
   "cell_type": "code",
   "execution_count": null,
   "metadata": {
    "collapsed": false
   },
   "outputs": [],
   "source": [
    "all_events_feats[all_events_feats['EVENT_TYPE']=='Heat'][['EPISODE_NARRATIVE','EVENT_NARRATIVE']]"
   ]
  },
  {
   "cell_type": "code",
   "execution_count": null,
   "metadata": {
    "collapsed": false
   },
   "outputs": [],
   "source": [
    "all_events_feats[all_events_feats['EVENT_TYPE']=='Heat']['EVENT_NARRATIVE']"
   ]
  },
  {
   "cell_type": "code",
   "execution_count": null,
   "metadata": {
    "collapsed": false
   },
   "outputs": [],
   "source": [
    "r = Rake()\n",
    "mytext = all_events_feats['EVENT_NARRATIVE'][10]\n",
    "#mytext = all_events_feats['EPISODE_NARRATIVE'][0]\n",
    "r.extract_keywords_from_text(mytext)\n",
    "r.get_ranked_phrases()"
   ]
  }
 ],
 "metadata": {
  "anaconda-cloud": {},
  "kernelspec": {
   "display_name": "Python [Root]",
   "language": "python",
   "name": "Python [Root]"
  },
  "language_info": {
   "codemirror_mode": {
    "name": "ipython",
    "version": 2
   },
   "file_extension": ".py",
   "mimetype": "text/x-python",
   "name": "python",
   "nbconvert_exporter": "python",
   "pygments_lexer": "ipython2",
   "version": "2.7.12"
  }
 },
 "nbformat": 4,
 "nbformat_minor": 0
}
