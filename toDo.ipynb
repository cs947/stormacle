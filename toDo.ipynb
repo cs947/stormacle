{
 "cells": [
  {
   "cell_type": "code",
   "execution_count": 5,
   "metadata": {
    "collapsed": true
   },
   "outputs": [
    {
     "name": "stdout",
     "output_type": "stream",
     "text": [
      "Copying from https://www1.ncdc.noaa.gov/pub/data/swdi/stormevents/csvfiles/StormEvents_details-ftp_v1.0_d1996_c20170717.csv.gz and unzipping to Data/Details_1996.csv\n",
      "Copying from https://www1.ncdc.noaa.gov/pub/data/swdi/stormevents/csvfiles/StormEvents_details-ftp_v1.0_d1997_c20190920.csv.gz and unzipping to Data/Details_1997.csv\n",
      "Copying from https://www1.ncdc.noaa.gov/pub/data/swdi/stormevents/csvfiles/StormEvents_details-ftp_v1.0_d1998_c20170717.csv.gz and unzipping to Data/Details_1998.csv\n",
      "Copying from https://www1.ncdc.noaa.gov/pub/data/swdi/stormevents/csvfiles/StormEvents_details-ftp_v1.0_d1999_c20190920.csv.gz and unzipping to Data/Details_1999.csv\n",
      "Copying from https://www1.ncdc.noaa.gov/pub/data/swdi/stormevents/csvfiles/StormEvents_details-ftp_v1.0_d2000_c20190920.csv.gz and unzipping to Data/Details_2000.csv\n",
      "Copying from https://www1.ncdc.noaa.gov/pub/data/swdi/stormevents/csvfiles/StormEvents_details-ftp_v1.0_d2001_c20190920.csv.gz and unzipping to Data/Details_2001.csv\n",
      "Copying from https://www1.ncdc.noaa.gov/pub/data/swdi/stormevents/csvfiles/StormEvents_details-ftp_v1.0_d2002_c20190920.csv.gz and unzipping to Data/Details_2002.csv\n",
      "Copying from https://www1.ncdc.noaa.gov/pub/data/swdi/stormevents/csvfiles/StormEvents_details-ftp_v1.0_d2003_c20190920.csv.gz and unzipping to Data/Details_2003.csv\n",
      "Copying from https://www1.ncdc.noaa.gov/pub/data/swdi/stormevents/csvfiles/StormEvents_details-ftp_v1.0_d2004_c20190920.csv.gz and unzipping to Data/Details_2004.csv\n",
      "Copying from https://www1.ncdc.noaa.gov/pub/data/swdi/stormevents/csvfiles/StormEvents_details-ftp_v1.0_d2005_c20190920.csv.gz and unzipping to Data/Details_2005.csv\n",
      "Copying from https://www1.ncdc.noaa.gov/pub/data/swdi/stormevents/csvfiles/StormEvents_details-ftp_v1.0_d2006_c20190920.csv.gz and unzipping to Data/Details_2006.csv\n",
      "Copying from https://www1.ncdc.noaa.gov/pub/data/swdi/stormevents/csvfiles/StormEvents_details-ftp_v1.0_d2007_c20170717.csv.gz and unzipping to Data/Details_2007.csv\n",
      "Copying from https://www1.ncdc.noaa.gov/pub/data/swdi/stormevents/csvfiles/StormEvents_details-ftp_v1.0_d2008_c20180718.csv.gz and unzipping to Data/Details_2008.csv\n",
      "Copying from https://www1.ncdc.noaa.gov/pub/data/swdi/stormevents/csvfiles/StormEvents_details-ftp_v1.0_d2009_c20180718.csv.gz and unzipping to Data/Details_2009.csv\n",
      "Copying from https://www1.ncdc.noaa.gov/pub/data/swdi/stormevents/csvfiles/StormEvents_details-ftp_v1.0_d2010_c20191116.csv.gz and unzipping to Data/Details_2010.csv\n",
      "Copying from https://www1.ncdc.noaa.gov/pub/data/swdi/stormevents/csvfiles/StormEvents_details-ftp_v1.0_d2011_c20180718.csv.gz and unzipping to Data/Details_2011.csv\n",
      "Copying from https://www1.ncdc.noaa.gov/pub/data/swdi/stormevents/csvfiles/StormEvents_details-ftp_v1.0_d2012_c20190516.csv.gz and unzipping to Data/Details_2012.csv\n",
      "Copying from https://www1.ncdc.noaa.gov/pub/data/swdi/stormevents/csvfiles/StormEvents_details-ftp_v1.0_d2013_c20170519.csv.gz and unzipping to Data/Details_2013.csv\n",
      "Copying from https://www1.ncdc.noaa.gov/pub/data/swdi/stormevents/csvfiles/StormEvents_details-ftp_v1.0_d2014_c20191116.csv.gz and unzipping to Data/Details_2014.csv\n",
      "Copying from https://www1.ncdc.noaa.gov/pub/data/swdi/stormevents/csvfiles/StormEvents_details-ftp_v1.0_d2015_c20191116.csv.gz and unzipping to Data/Details_2015.csv\n",
      "Copying from https://www1.ncdc.noaa.gov/pub/data/swdi/stormevents/csvfiles/StormEvents_details-ftp_v1.0_d2016_c20190817.csv.gz and unzipping to Data/Details_2016.csv\n",
      "Copying from https://www1.ncdc.noaa.gov/pub/data/swdi/stormevents/csvfiles/StormEvents_details-ftp_v1.0_d2017_c20190817.csv.gz and unzipping to Data/Details_2017.csv\n",
      "Copying from https://www1.ncdc.noaa.gov/pub/data/swdi/stormevents/csvfiles/StormEvents_details-ftp_v1.0_d2018_c20191116.csv.gz and unzipping to Data/Details_2018.csv\n",
      "Copying from https://www1.ncdc.noaa.gov/pub/data/swdi/stormevents/csvfiles/StormEvents_details-ftp_v1.0_d2019_c20191116.csv.gz and unzipping to Data/Details_2019.csv\n",
      "Copying from https://www1.ncdc.noaa.gov/pub/data/swdi/stormevents/csvfiles/StormEvents_fatalities-ftp_v1.0_d1996_c20170717.csv.gz and unzipping to Data/Fatalities_1996.csv\n",
      "Copying from https://www1.ncdc.noaa.gov/pub/data/swdi/stormevents/csvfiles/StormEvents_fatalities-ftp_v1.0_d1997_c20190920.csv.gz and unzipping to Data/Fatalities_1997.csv\n",
      "Copying from https://www1.ncdc.noaa.gov/pub/data/swdi/stormevents/csvfiles/StormEvents_fatalities-ftp_v1.0_d1998_c20170717.csv.gz and unzipping to Data/Fatalities_1998.csv\n",
      "Copying from https://www1.ncdc.noaa.gov/pub/data/swdi/stormevents/csvfiles/StormEvents_fatalities-ftp_v1.0_d1999_c20190920.csv.gz and unzipping to Data/Fatalities_1999.csv\n",
      "Copying from https://www1.ncdc.noaa.gov/pub/data/swdi/stormevents/csvfiles/StormEvents_fatalities-ftp_v1.0_d2000_c20190920.csv.gz and unzipping to Data/Fatalities_2000.csv\n",
      "Copying from https://www1.ncdc.noaa.gov/pub/data/swdi/stormevents/csvfiles/StormEvents_fatalities-ftp_v1.0_d2001_c20190920.csv.gz and unzipping to Data/Fatalities_2001.csv\n",
      "Copying from https://www1.ncdc.noaa.gov/pub/data/swdi/stormevents/csvfiles/StormEvents_fatalities-ftp_v1.0_d2002_c20190920.csv.gz and unzipping to Data/Fatalities_2002.csv\n",
      "Copying from https://www1.ncdc.noaa.gov/pub/data/swdi/stormevents/csvfiles/StormEvents_fatalities-ftp_v1.0_d2003_c20190920.csv.gz and unzipping to Data/Fatalities_2003.csv\n",
      "Copying from https://www1.ncdc.noaa.gov/pub/data/swdi/stormevents/csvfiles/StormEvents_fatalities-ftp_v1.0_d2004_c20190920.csv.gz and unzipping to Data/Fatalities_2004.csv\n",
      "Copying from https://www1.ncdc.noaa.gov/pub/data/swdi/stormevents/csvfiles/StormEvents_fatalities-ftp_v1.0_d2005_c20190920.csv.gz and unzipping to Data/Fatalities_2005.csv\n",
      "Copying from https://www1.ncdc.noaa.gov/pub/data/swdi/stormevents/csvfiles/StormEvents_fatalities-ftp_v1.0_d2006_c20190920.csv.gz and unzipping to Data/Fatalities_2006.csv\n",
      "Copying from https://www1.ncdc.noaa.gov/pub/data/swdi/stormevents/csvfiles/StormEvents_fatalities-ftp_v1.0_d2007_c20170717.csv.gz and unzipping to Data/Fatalities_2007.csv\n",
      "Copying from https://www1.ncdc.noaa.gov/pub/data/swdi/stormevents/csvfiles/StormEvents_fatalities-ftp_v1.0_d2008_c20180718.csv.gz and unzipping to Data/Fatalities_2008.csv\n",
      "Copying from https://www1.ncdc.noaa.gov/pub/data/swdi/stormevents/csvfiles/StormEvents_fatalities-ftp_v1.0_d2009_c20180718.csv.gz and unzipping to Data/Fatalities_2009.csv\n",
      "Copying from https://www1.ncdc.noaa.gov/pub/data/swdi/stormevents/csvfiles/StormEvents_fatalities-ftp_v1.0_d2010_c20191116.csv.gz and unzipping to Data/Fatalities_2010.csv\n",
      "Copying from https://www1.ncdc.noaa.gov/pub/data/swdi/stormevents/csvfiles/StormEvents_fatalities-ftp_v1.0_d2011_c20180718.csv.gz and unzipping to Data/Fatalities_2011.csv\n",
      "Copying from https://www1.ncdc.noaa.gov/pub/data/swdi/stormevents/csvfiles/StormEvents_fatalities-ftp_v1.0_d2012_c20190516.csv.gz and unzipping to Data/Fatalities_2012.csv\n",
      "Copying from https://www1.ncdc.noaa.gov/pub/data/swdi/stormevents/csvfiles/StormEvents_fatalities-ftp_v1.0_d2013_c20170519.csv.gz and unzipping to Data/Fatalities_2013.csv\n",
      "Copying from https://www1.ncdc.noaa.gov/pub/data/swdi/stormevents/csvfiles/StormEvents_fatalities-ftp_v1.0_d2014_c20191116.csv.gz and unzipping to Data/Fatalities_2014.csv\n",
      "Copying from https://www1.ncdc.noaa.gov/pub/data/swdi/stormevents/csvfiles/StormEvents_fatalities-ftp_v1.0_d2015_c20191116.csv.gz and unzipping to Data/Fatalities_2015.csv\n",
      "Copying from https://www1.ncdc.noaa.gov/pub/data/swdi/stormevents/csvfiles/StormEvents_fatalities-ftp_v1.0_d2016_c20190817.csv.gz and unzipping to Data/Fatalities_2016.csv\n",
      "Copying from https://www1.ncdc.noaa.gov/pub/data/swdi/stormevents/csvfiles/StormEvents_fatalities-ftp_v1.0_d2017_c20190817.csv.gz and unzipping to Data/Fatalities_2017.csv\n",
      "Copying from https://www1.ncdc.noaa.gov/pub/data/swdi/stormevents/csvfiles/StormEvents_fatalities-ftp_v1.0_d2018_c20191116.csv.gz and unzipping to Data/Fatalities_2018.csv\n",
      "Copying from https://www1.ncdc.noaa.gov/pub/data/swdi/stormevents/csvfiles/StormEvents_fatalities-ftp_v1.0_d2019_c20191116.csv.gz and unzipping to Data/Fatalities_2019.csv\n",
      "Copying from https://www1.ncdc.noaa.gov/pub/data/swdi/stormevents/csvfiles/StormEvents_locations-ftp_v1.0_d1996_c20170717.csv.gz and unzipping to Data/Locations_1996.csv\n",
      "Copying from https://www1.ncdc.noaa.gov/pub/data/swdi/stormevents/csvfiles/StormEvents_locations-ftp_v1.0_d1997_c20190920.csv.gz and unzipping to Data/Locations_1997.csv\n",
      "Copying from https://www1.ncdc.noaa.gov/pub/data/swdi/stormevents/csvfiles/StormEvents_locations-ftp_v1.0_d1998_c20170717.csv.gz and unzipping to Data/Locations_1998.csv\n",
      "Copying from https://www1.ncdc.noaa.gov/pub/data/swdi/stormevents/csvfiles/StormEvents_locations-ftp_v1.0_d1999_c20190920.csv.gz and unzipping to Data/Locations_1999.csv\n",
      "Copying from https://www1.ncdc.noaa.gov/pub/data/swdi/stormevents/csvfiles/StormEvents_locations-ftp_v1.0_d2000_c20190920.csv.gz and unzipping to Data/Locations_2000.csv\n",
      "Copying from https://www1.ncdc.noaa.gov/pub/data/swdi/stormevents/csvfiles/StormEvents_locations-ftp_v1.0_d2001_c20190920.csv.gz and unzipping to Data/Locations_2001.csv\n",
      "Copying from https://www1.ncdc.noaa.gov/pub/data/swdi/stormevents/csvfiles/StormEvents_locations-ftp_v1.0_d2002_c20190920.csv.gz and unzipping to Data/Locations_2002.csv\n",
      "Copying from https://www1.ncdc.noaa.gov/pub/data/swdi/stormevents/csvfiles/StormEvents_locations-ftp_v1.0_d2003_c20190920.csv.gz and unzipping to Data/Locations_2003.csv\n",
      "Copying from https://www1.ncdc.noaa.gov/pub/data/swdi/stormevents/csvfiles/StormEvents_locations-ftp_v1.0_d2004_c20190920.csv.gz and unzipping to Data/Locations_2004.csv\n",
      "Copying from https://www1.ncdc.noaa.gov/pub/data/swdi/stormevents/csvfiles/StormEvents_locations-ftp_v1.0_d2005_c20190920.csv.gz and unzipping to Data/Locations_2005.csv\n",
      "Copying from https://www1.ncdc.noaa.gov/pub/data/swdi/stormevents/csvfiles/StormEvents_locations-ftp_v1.0_d2006_c20190920.csv.gz and unzipping to Data/Locations_2006.csv\n",
      "Copying from https://www1.ncdc.noaa.gov/pub/data/swdi/stormevents/csvfiles/StormEvents_locations-ftp_v1.0_d2007_c20170717.csv.gz and unzipping to Data/Locations_2007.csv\n",
      "Copying from https://www1.ncdc.noaa.gov/pub/data/swdi/stormevents/csvfiles/StormEvents_locations-ftp_v1.0_d2008_c20180718.csv.gz and unzipping to Data/Locations_2008.csv\n",
      "Copying from https://www1.ncdc.noaa.gov/pub/data/swdi/stormevents/csvfiles/StormEvents_locations-ftp_v1.0_d2009_c20180718.csv.gz and unzipping to Data/Locations_2009.csv\n",
      "Copying from https://www1.ncdc.noaa.gov/pub/data/swdi/stormevents/csvfiles/StormEvents_locations-ftp_v1.0_d2010_c20191116.csv.gz and unzipping to Data/Locations_2010.csv\n",
      "Copying from https://www1.ncdc.noaa.gov/pub/data/swdi/stormevents/csvfiles/StormEvents_locations-ftp_v1.0_d2011_c20180718.csv.gz and unzipping to Data/Locations_2011.csv\n",
      "Copying from https://www1.ncdc.noaa.gov/pub/data/swdi/stormevents/csvfiles/StormEvents_locations-ftp_v1.0_d2012_c20190516.csv.gz and unzipping to Data/Locations_2012.csv\n",
      "Copying from https://www1.ncdc.noaa.gov/pub/data/swdi/stormevents/csvfiles/StormEvents_locations-ftp_v1.0_d2013_c20170519.csv.gz and unzipping to Data/Locations_2013.csv\n",
      "Copying from https://www1.ncdc.noaa.gov/pub/data/swdi/stormevents/csvfiles/StormEvents_locations-ftp_v1.0_d2014_c20191116.csv.gz and unzipping to Data/Locations_2014.csv\n",
      "Copying from https://www1.ncdc.noaa.gov/pub/data/swdi/stormevents/csvfiles/StormEvents_locations-ftp_v1.0_d2015_c20191116.csv.gz and unzipping to Data/Locations_2015.csv\n",
      "Copying from https://www1.ncdc.noaa.gov/pub/data/swdi/stormevents/csvfiles/StormEvents_locations-ftp_v1.0_d2016_c20190817.csv.gz and unzipping to Data/Locations_2016.csv\n",
      "Copying from https://www1.ncdc.noaa.gov/pub/data/swdi/stormevents/csvfiles/StormEvents_locations-ftp_v1.0_d2017_c20190817.csv.gz and unzipping to Data/Locations_2017.csv\n",
      "Copying from https://www1.ncdc.noaa.gov/pub/data/swdi/stormevents/csvfiles/StormEvents_locations-ftp_v1.0_d2018_c20191116.csv.gz and unzipping to Data/Locations_2018.csv\n",
      "Copying from https://www1.ncdc.noaa.gov/pub/data/swdi/stormevents/csvfiles/StormEvents_locations-ftp_v1.0_d2019_c20191116.csv.gz and unzipping to Data/Locations_2019.csv\n",
      "done!\n"
     ]
    }
   ],
   "source": [
    "#Run this block to load all data files directly from the NWS database\n",
    "%run loadData.py"
   ]
  },
  {
   "cell_type": "code",
   "execution_count": null,
   "metadata": {
    "collapsed": false
   },
   "outputs": [],
   "source": [
    "#Call other scripts starting here if needed!"
   ]
  },
  {
   "cell_type": "code",
   "execution_count": null,
   "metadata": {
    "collapsed": true
   },
   "outputs": [],
   "source": []
  }
 ],
 "metadata": {
  "anaconda-cloud": {},
  "kernelspec": {
   "display_name": "Python [Root]",
   "language": "python",
   "name": "Python [Root]"
  },
  "language_info": {
   "codemirror_mode": {
    "name": "ipython",
    "version": 2
   },
   "file_extension": ".py",
   "mimetype": "text/x-python",
   "name": "python",
   "nbconvert_exporter": "python",
   "pygments_lexer": "ipython2",
   "version": "2.7.12"
  }
 },
 "nbformat": 4,
 "nbformat_minor": 0
}
