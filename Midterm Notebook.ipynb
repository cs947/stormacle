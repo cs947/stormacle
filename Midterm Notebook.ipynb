{
 "cells": [
  {
   "cell_type": "code",
   "execution_count": 2,
   "metadata": {
    "collapsed": true
   },
   "outputs": [],
   "source": [
    "import numpy as np\n",
    "import pandas as pd\n",
    "import matplotlib.pyplot as plt\n",
    "from sklearn import preprocessing\n",
    "from sklearn.linear_model import LinearRegression\n",
    "from sklearn.tree import DecisionTreeRegressor\n",
    "from sklearn.model_selection import train_test_split\n",
    "from sklearn.model_selection import cross_val_score\n",
    "import rasterio as rio\n",
    "%matplotlib inline"
   ]
  },
  {
   "cell_type": "code",
   "execution_count": 6,
   "metadata": {
    "collapsed": false
   },
   "outputs": [
    {
     "name": "stdout",
     "output_type": "stream",
     "text": [
      "(2016, (56003, 51), (41619, 11), (669, 11))\n",
      "(2017, (57024, 51), (42310, 11), (776, 11))\n",
      "(2018, (62351, 51), (47876, 11), (799, 11))\n",
      "(2019, (46621, 51), (46486, 11), (400, 11))\n"
     ]
    }
   ],
   "source": [
    "for year in range(2016, 2020):\n",
    "    deets = pd.read_csv(\"Data/Details_\"+str(year)+\".csv\")\n",
    "    locs = pd.read_csv(\"Data/Locations_\"+str(year)+\".csv\")\n",
    "    fatalities = pd.read_csv(\"Data/Fatalities_\"+str(year)+\".csv\")\n",
    "    print(year, deets.shape, locs.shape, fatalities.shape)"
   ]
  },
  {
   "cell_type": "markdown",
   "metadata": {},
   "source": [
    "# Initial Data Wrangling and Exploration"
   ]
  },
  {
   "cell_type": "code",
   "execution_count": 3,
   "metadata": {
    "collapsed": false
   },
   "outputs": [
    {
     "data": {
      "text/plain": [
       "Index([u'BEGIN_YEARMONTH', u'BEGIN_DAY', u'BEGIN_TIME', u'END_YEARMONTH',\n",
       "       u'END_DAY', u'END_TIME', u'EPISODE_ID', u'EVENT_ID', u'STATE',\n",
       "       u'STATE_FIPS', u'YEAR', u'MONTH_NAME', u'EVENT_TYPE', u'CZ_TYPE',\n",
       "       u'CZ_FIPS', u'CZ_NAME', u'WFO', u'BEGIN_DATE_TIME', u'CZ_TIMEZONE',\n",
       "       u'END_DATE_TIME', u'INJURIES_DIRECT', u'INJURIES_INDIRECT',\n",
       "       u'DEATHS_DIRECT', u'DEATHS_INDIRECT', u'DAMAGE_PROPERTY',\n",
       "       u'DAMAGE_CROPS', u'SOURCE', u'MAGNITUDE', u'MAGNITUDE_TYPE',\n",
       "       u'FLOOD_CAUSE', u'CATEGORY', u'TOR_F_SCALE', u'TOR_LENGTH',\n",
       "       u'TOR_WIDTH', u'TOR_OTHER_WFO', u'TOR_OTHER_CZ_STATE',\n",
       "       u'TOR_OTHER_CZ_FIPS', u'TOR_OTHER_CZ_NAME', u'BEGIN_RANGE',\n",
       "       u'BEGIN_AZIMUTH', u'BEGIN_LOCATION', u'END_RANGE', u'END_AZIMUTH',\n",
       "       u'END_LOCATION', u'BEGIN_LAT', u'BEGIN_LON', u'END_LAT', u'END_LON',\n",
       "       u'EPISODE_NARRATIVE', u'EVENT_NARRATIVE', u'DATA_SOURCE'],\n",
       "      dtype='object')"
      ]
     },
     "execution_count": 3,
     "metadata": {},
     "output_type": "execute_result"
    }
   ],
   "source": [
    "all_files = [\"Data/Details_\"+str(year)+\".csv\" for year in range(2016, 2020)]\n",
    "df = pd.concat((pd.read_csv(f) for f in all_files))\n",
    "df.columns"
   ]
  },
  {
   "cell_type": "code",
   "execution_count": 85,
   "metadata": {
    "collapsed": true
   },
   "outputs": [],
   "source": [
    "casualty_cols = ['INJURIES_DIRECT','INJURIES_INDIRECT','DEATHS_DIRECT','DEATHS_INDIRECT']\n",
    "damage_cols = ['DAMAGE_PROPERTY', 'DAMAGE_CROPS']\n",
    "\n",
    "df['CASUALTIES'] = df[casualty_cols].sum(axis=1)\n",
    "df['DAMAGES'] = df[damage_cols].sum(axis=1) #need to parse strings, and convert to numeric!\n",
    "df['DURATION'] = (pd.to_datetime(df['END_DATE_TIME']).subtract(pd.to_datetime(df['BEGIN_DATE_TIME']))).astype('timedelta64[h]')"
   ]
  },
  {
   "cell_type": "code",
   "execution_count": 87,
   "metadata": {
    "collapsed": false
   },
   "outputs": [
    {
     "data": {
      "text/plain": [
       "array([  0.,  27.,  25.,   8.,  10.,   3.,   7.,   4.,   6.,   2., 743.,\n",
       "         5.,  16.,  14.,   1.,  35.,  11.,  32.,  12.,   9.,  20.,  31.,\n",
       "        55.,  19.,  15., 719.,  33.,  23.,  41.,  17., 214.,  30.,  36.,\n",
       "        24.,  18.,  48.,  51.,  60.,  74.,  29.,  21.,  84., 600.,  58.,\n",
       "        46.,  40.,  91.,  37.,  38.,  26.,  13.,  28., 401.,  22.,  43.,\n",
       "        95., 123., 113.,  76.,  62., 127., 386.,  93.,  34.,  45.,  96.,\n",
       "        72.,  70., 111.,  68., 120., 221.,  47.,  71., 720., 497., 130.,\n",
       "       116.,  97., 110.,  92.,  80.,  88.,  59.,  42.,  52., 208., 383.,\n",
       "        77.,  39.,  49.,  99.,  44., 409., 240., 367., 323., 314., 185.,\n",
       "       276.,  64.,  86., 388., 437.,  89.,  82., 381., 205., 144., 181.,\n",
       "       245., 327., 377.,  67., 139.,  53., 695.,  57., 171., 268., 108.,\n",
       "        54., 211., 344., 360., 161., 317., 146.,  66., 151., 182., 178.,\n",
       "       166., 104., 134., 131., 261., 125., 180., 101., 107., 102., 100.,\n",
       "        50., 168., 124.,  75.,  61., 307., 390., 473., 512., 192.,  79.,\n",
       "        78.,  98.,  63., 329.,  87., 129.,  73.,  83., 405.,  65.,  85.,\n",
       "        81., 117., 432., 162., 148., 190., 336., 316., 193., 334., 696.,\n",
       "       264., 408., 203., 105., 378., 155., 115., 347., 112., 287., 252.,\n",
       "       152., 320., 567., 642., 363., 235., 133., 300., 216., 456., 337.,\n",
       "       253., 177.,  56., 647., 479., 137., 369., 641., 138., 291., 478.,\n",
       "       149., 354., 411., 450., 492., 372.,  90., 132.,  69., 167., 147.,\n",
       "       312., 244., 103., 218., 410., 599., 597., 431., 424., 407., 145.,\n",
       "       557., 220., 335., 703., 126., 342., 142., 169., 109., 455., 154.,\n",
       "       197., 223., 366., 175., 209., 368., 389., 153., 249., 199., 226.,\n",
       "       232., 119., 376., 659., 128., 698., 442., 559., 288., 304., 156.,\n",
       "       712., 222., 528., 198., 534., 297., 179., 404., 331., 135., 527.,\n",
       "       286., 191., 425., 136., 118., 183., 529., 305., 281., 258., 359.,\n",
       "       339., 308., 503., 671., 150., 263., 174., 648., 143., 157., 257.,\n",
       "       121., 202., 633., 321., 294., 624., 545., 468., 551., 713., 707.,\n",
       "       462.,  94., 295., 463., 348., 172., 605., 558., 346., 485., 640.,\n",
       "       215., 544., 639., 656., 594., 225., 106., 229., 458., 375., 507.,\n",
       "       400., 702., 384., 481., 547., 480., 491., 564., 575., 552., 309.,\n",
       "       246., 290., 163., 742., 733., 736., 724., 420., 660., 362., 195.,\n",
       "       140., 267., 412., 741., 234., 654., 402., 725., 735., 729., 398.,\n",
       "       391., 606., 325., 237., 498., 256., 494., 436., 483., 651., 522.,\n",
       "       465., 609., 472., 413., 270., 416., 518., 540., 141., 296., 176.,\n",
       "       571., 565., 563., 541., 196., 578., 568., 173., 570., 589., 595.,\n",
       "       585., 590., 546., 562., 718., 343., 677., 583., 122., 426., 460.,\n",
       "       457., 700., 697., 722., 461., 683., 705., 560., 241., 251., 593.,\n",
       "       200., 114., 675., 219., 699., 453., 579., 324., 486., 351., 449.,\n",
       "       510., 531., 315., 569., 517., 504., 278., 418., 484., 490., 239.,\n",
       "       623., 482., 282., 665., 311., 349., 526., 452., 539., 188., 543.,\n",
       "       613., 247., 204., 255., 706., 467., 340., 333., 165., 160., 443.,\n",
       "       231., 680., 447., 554., 206., 213., 631., 371., 630., 189., 210.,\n",
       "       217., 224., 170., 279., 158., 415., 330., 227., 301., 588., 266.,\n",
       "       355., 430., 164., 387., 356., 357., 243., 338., 242., 254., 586.,\n",
       "       445., 421., 159., 612., 379., 679., 392., 289., 374., 230., 428.,\n",
       "       664., 427., 228., 284., 403., 310., 303., 326., 419., 212., 446.,\n",
       "       710., 238., 293., 732., 236., 561., 259., 265., 399., 714., 393.,\n",
       "       396., 435., 464., 556., 248., 345., 515., 520., 466., 629., 617.,\n",
       "       489., 525., 603., 511., 395., 688., 262., 587., 730., 576., 591.,\n",
       "       704., 592., 207., 434., 187., 394., 740., 537., 273., 233., 370.,\n",
       "       274., 678., 438., 298., 620., 302., 637., 708., 439., 417., 709.,\n",
       "       194., 184., 470., 365., 382., 496., 186., 322., 602., 422., 666.,\n",
       "       477., 632., 448., 423., 341., 292., 328., 250., 280., 441., 299.,\n",
       "       285., 440., 414., 495., 469., 475., 668., 607., 350., 269., 358.,\n",
       "       385., 318., 275., 584., 669., 661., 711., 260., 429., 271., 634.,\n",
       "       502., 364., 397., 306., 319., 313.])"
      ]
     },
     "execution_count": 87,
     "metadata": {},
     "output_type": "execute_result"
    }
   ],
   "source": [
    "pd.unique(df['DURATION'])"
   ]
  },
  {
   "cell_type": "code",
   "execution_count": 90,
   "metadata": {
    "collapsed": true
   },
   "outputs": [],
   "source": [
    "casualty_cols = ['INJURIES_DIRECT','INJURIES_INDIRECT','DEATHS_DIRECT','DEATHS_INDIRECT']\n",
    "damage_cols = ['DAMAGE_PROPERTY', 'DAMAGE_CROPS']\n",
    "dt_factors = ['YEAR','MONTH_NAME','STATE_FIPS']\n",
    "excluded_factors = ['CATEGORY','WFO']+dt_factors+casualty_cols+damage_cols\n",
    "df.drop(excluded_factors, axis=1, inplace=True)\n",
    "df.drop(df.filter(regex='BEGIN|END|CZ|TOR\\_OTHER'), axis=1, inplace=True)"
   ]
  },
  {
   "cell_type": "code",
   "execution_count": 32,
   "metadata": {
    "collapsed": false
   },
   "outputs": [
    {
     "name": "stdout",
     "output_type": "stream",
     "text": [
      "['EPISODE_ID', 'EVENT_ID', 'STATE', 'EVENT_TYPE', 'SOURCE', 'MAGNITUDE', 'MAGNITUDE_TYPE', 'FLOOD_CAUSE', 'TOR_F_SCALE', 'TOR_LENGTH', 'TOR_WIDTH', 'EPISODE_NARRATIVE', 'EVENT_NARRATIVE', 'DATA_SOURCE', 'CASUALTIES', 'DAMAGES', 'DURATION']\n"
     ]
    }
   ],
   "source": [
    "print(list(df))#['EVENT_TYPE'].unique())"
   ]
  },
  {
   "cell_type": "markdown",
   "metadata": {},
   "source": [
    "## Initial Models"
   ]
  },
  {
   "cell_type": "code",
   "execution_count": 33,
   "metadata": {
    "collapsed": false
   },
   "outputs": [],
   "source": [
    "real_df = df[['MAGNITUDE','TOR_LENGTH','TOR_WIDTH','DURATION','CASUALTIES']]\n",
    "real_df.fillna(0, inplace=True)\n",
    "full_x = real_df[['MAGNITUDE','TOR_LENGTH','TOR_WIDTH','DURATION']]\n",
    "full_y = real_df['CASUALTIES']\n",
    "x_train, x_test, y_train, y_test = train_test_split(full_x, full_y, train_size=0.8, random_state=4741)"
   ]
  },
  {
   "cell_type": "code",
   "execution_count": 34,
   "metadata": {
    "collapsed": false
   },
   "outputs": [
    {
     "name": "stdout",
     "output_type": "stream",
     "text": [
      "EPISODE_ID   -0.001220\n",
      "EVENT_ID     -0.001332\n",
      "MAGNITUDE     0.020456\n",
      "TOR_LENGTH    0.215606\n",
      "TOR_WIDTH     0.163094\n",
      "CASUALTIES    1.000000\n",
      "DAMAGES            NaN\n",
      "DURATION      0.003238\n",
      "Name: CASUALTIES, dtype: float64\n",
      "((221999,), (2796,))\n"
     ]
    }
   ],
   "source": [
    "print(df.corr()['CASUALTIES'])\n",
    "print(df['CASUALTIES'].shape,real_df['CASUALTIES'][real_df['CASUALTIES']>0].shape)"
   ]
  },
  {
   "cell_type": "code",
   "execution_count": 35,
   "metadata": {
    "collapsed": false
   },
   "outputs": [
    {
     "name": "stdout",
     "output_type": "stream",
     "text": [
      "('Training accuracy: ', 0.0072140653981119796)\n",
      "('Cross validation accuracy: ', 0.006259376605171063)\n"
     ]
    }
   ],
   "source": [
    "model = LinearRegression()\n",
    "model.fit(x_train,y_train)\n",
    "print(\"Training accuracy: \", model.score(x_train, y_train))\n",
    "print(\"Cross validation accuracy: \", model.score(x_test, y_test))"
   ]
  },
  {
   "cell_type": "code",
   "execution_count": 36,
   "metadata": {
    "collapsed": false
   },
   "outputs": [],
   "source": [
    "cat_df = df[['EVENT_TYPE','FLOOD_CAUSE','MAGNITUDE','TOR_LENGTH','TOR_WIDTH','DURATION','CASUALTIES']]\n",
    "cat_df.fillna(0, inplace=True)\n",
    "full_x = cat_df[['EVENT_TYPE','FLOOD_CAUSE','MAGNITUDE','TOR_LENGTH','TOR_WIDTH','DURATION']].pipe(\n",
    "    pd.get_dummies,\n",
    "    prefix_sep='_', \n",
    "    drop_first=True\n",
    ")\n",
    "full_y = cat_df['CASUALTIES']"
   ]
  },
  {
   "cell_type": "code",
   "execution_count": 37,
   "metadata": {
    "collapsed": true
   },
   "outputs": [],
   "source": [
    "x_train, x_test, y_train, y_test = train_test_split(full_x, full_y, train_size=0.8, random_state=4741)"
   ]
  },
  {
   "cell_type": "code",
   "execution_count": 38,
   "metadata": {
    "collapsed": false
   },
   "outputs": [
    {
     "name": "stdout",
     "output_type": "stream",
     "text": [
      "('Training accuracy: ', 0.03375687366252278)\n",
      "('Cross validation accuracy: ', -0.026621803870732652)\n"
     ]
    }
   ],
   "source": [
    "model = DecisionTreeRegressor(max_depth=3)\n",
    "model.fit(x_train,y_train)\n",
    "print(\"Training accuracy: \", model.score(x_train, y_train))\n",
    "print(\"Cross validation accuracy: \", model.score(x_test, y_test))"
   ]
  },
  {
   "cell_type": "markdown",
   "metadata": {},
   "source": [
    "# Additional Data Exploration"
   ]
  },
  {
   "cell_type": "code",
   "execution_count": 39,
   "metadata": {
    "collapsed": false
   },
   "outputs": [
    {
     "name": "stderr",
     "output_type": "stream",
     "text": [
      "C:\\Anaconda2\\lib\\site-packages\\ipykernel\\__main__.py:1: SettingWithCopyWarning: \n",
      "A value is trying to be set on a copy of a slice from a DataFrame\n",
      "\n",
      "See the caveats in the documentation: http://pandas.pydata.org/pandas-docs/stable/indexing.html#indexing-view-versus-copy\n",
      "  if __name__ == '__main__':\n",
      "C:\\Anaconda2\\lib\\site-packages\\ipykernel\\__main__.py:2: SettingWithCopyWarning: \n",
      "A value is trying to be set on a copy of a slice from a DataFrame\n",
      "\n",
      "See the caveats in the documentation: http://pandas.pydata.org/pandas-docs/stable/indexing.html#indexing-view-versus-copy\n",
      "  from ipykernel import kernelapp as app\n",
      "C:\\Anaconda2\\lib\\site-packages\\ipykernel\\__main__.py:3: SettingWithCopyWarning: \n",
      "A value is trying to be set on a copy of a slice from a DataFrame\n",
      "\n",
      "See the caveats in the documentation: http://pandas.pydata.org/pandas-docs/stable/indexing.html#indexing-view-versus-copy\n",
      "  app.launch_new_instance()\n"
     ]
    },
    {
     "data": {
      "text/html": [
       "<div>\n",
       "<table border=\"1\" class=\"dataframe\">\n",
       "  <thead>\n",
       "    <tr style=\"text-align: right;\">\n",
       "      <th></th>\n",
       "      <th>EVENT_ID</th>\n",
       "      <th>CASUALTIES</th>\n",
       "    </tr>\n",
       "    <tr>\n",
       "      <th>EVENT_TYPE</th>\n",
       "      <th></th>\n",
       "      <th></th>\n",
       "    </tr>\n",
       "  </thead>\n",
       "  <tbody>\n",
       "    <tr>\n",
       "      <th>Astronomical Low Tide</th>\n",
       "      <td>105</td>\n",
       "      <td>1</td>\n",
       "    </tr>\n",
       "    <tr>\n",
       "      <th>Avalanche</th>\n",
       "      <td>111</td>\n",
       "      <td>61</td>\n",
       "    </tr>\n",
       "    <tr>\n",
       "      <th>Blizzard</th>\n",
       "      <td>2342</td>\n",
       "      <td>48</td>\n",
       "    </tr>\n",
       "    <tr>\n",
       "      <th>Cold/Wind Chill</th>\n",
       "      <td>1438</td>\n",
       "      <td>119</td>\n",
       "    </tr>\n",
       "    <tr>\n",
       "      <th>Debris Flow</th>\n",
       "      <td>514</td>\n",
       "      <td>197</td>\n",
       "    </tr>\n",
       "    <tr>\n",
       "      <th>Dense Fog</th>\n",
       "      <td>2410</td>\n",
       "      <td>146</td>\n",
       "    </tr>\n",
       "    <tr>\n",
       "      <th>Dense Smoke</th>\n",
       "      <td>61</td>\n",
       "      <td>0</td>\n",
       "    </tr>\n",
       "    <tr>\n",
       "      <th>Drought</th>\n",
       "      <td>6085</td>\n",
       "      <td>0</td>\n",
       "    </tr>\n",
       "    <tr>\n",
       "      <th>Dust Devil</th>\n",
       "      <td>34</td>\n",
       "      <td>26</td>\n",
       "    </tr>\n",
       "    <tr>\n",
       "      <th>Dust Storm</th>\n",
       "      <td>239</td>\n",
       "      <td>45</td>\n",
       "    </tr>\n",
       "    <tr>\n",
       "      <th>Excessive Heat</th>\n",
       "      <td>1710</td>\n",
       "      <td>704</td>\n",
       "    </tr>\n",
       "    <tr>\n",
       "      <th>Extreme Cold/Wind Chill</th>\n",
       "      <td>2664</td>\n",
       "      <td>50</td>\n",
       "    </tr>\n",
       "    <tr>\n",
       "      <th>Flood</th>\n",
       "      <td>28218</td>\n",
       "      <td>559</td>\n",
       "    </tr>\n",
       "    <tr>\n",
       "      <th>Freezing Fog</th>\n",
       "      <td>31</td>\n",
       "      <td>5</td>\n",
       "    </tr>\n",
       "    <tr>\n",
       "      <th>Frost/Freeze</th>\n",
       "      <td>2278</td>\n",
       "      <td>0</td>\n",
       "    </tr>\n",
       "    <tr>\n",
       "      <th>Funnel Cloud</th>\n",
       "      <td>1155</td>\n",
       "      <td>0</td>\n",
       "    </tr>\n",
       "    <tr>\n",
       "      <th>Hail</th>\n",
       "      <td>34563</td>\n",
       "      <td>75</td>\n",
       "    </tr>\n",
       "    <tr>\n",
       "      <th>Heat</th>\n",
       "      <td>3356</td>\n",
       "      <td>1030</td>\n",
       "    </tr>\n",
       "    <tr>\n",
       "      <th>Heavy Rain</th>\n",
       "      <td>6065</td>\n",
       "      <td>58</td>\n",
       "    </tr>\n",
       "    <tr>\n",
       "      <th>Heavy Snow</th>\n",
       "      <td>7480</td>\n",
       "      <td>127</td>\n",
       "    </tr>\n",
       "    <tr>\n",
       "      <th>High Surf</th>\n",
       "      <td>1838</td>\n",
       "      <td>70</td>\n",
       "    </tr>\n",
       "    <tr>\n",
       "      <th>Hurricane</th>\n",
       "      <td>118</td>\n",
       "      <td>180</td>\n",
       "    </tr>\n",
       "    <tr>\n",
       "      <th>Hurricane (Typhoon)</th>\n",
       "      <td>22</td>\n",
       "      <td>0</td>\n",
       "    </tr>\n",
       "    <tr>\n",
       "      <th>Ice Storm</th>\n",
       "      <td>788</td>\n",
       "      <td>523</td>\n",
       "    </tr>\n",
       "    <tr>\n",
       "      <th>Lake-Effect Snow</th>\n",
       "      <td>518</td>\n",
       "      <td>16</td>\n",
       "    </tr>\n",
       "    <tr>\n",
       "      <th>Lightning</th>\n",
       "      <td>1393</td>\n",
       "      <td>488</td>\n",
       "    </tr>\n",
       "    <tr>\n",
       "      <th>Marine Dense Fog</th>\n",
       "      <td>4</td>\n",
       "      <td>0</td>\n",
       "    </tr>\n",
       "    <tr>\n",
       "      <th>Marine Hurricane/Typhoon</th>\n",
       "      <td>35</td>\n",
       "      <td>0</td>\n",
       "    </tr>\n",
       "    <tr>\n",
       "      <th>Marine Tropical Depression</th>\n",
       "      <td>7</td>\n",
       "      <td>0</td>\n",
       "    </tr>\n",
       "    <tr>\n",
       "      <th>Marine Tropical Storm</th>\n",
       "      <td>125</td>\n",
       "      <td>0</td>\n",
       "    </tr>\n",
       "    <tr>\n",
       "      <th>Rip Current</th>\n",
       "      <td>279</td>\n",
       "      <td>328</td>\n",
       "    </tr>\n",
       "    <tr>\n",
       "      <th>Seiche</th>\n",
       "      <td>8</td>\n",
       "      <td>0</td>\n",
       "    </tr>\n",
       "    <tr>\n",
       "      <th>Sleet</th>\n",
       "      <td>51</td>\n",
       "      <td>4</td>\n",
       "    </tr>\n",
       "    <tr>\n",
       "      <th>Sneakerwave</th>\n",
       "      <td>7</td>\n",
       "      <td>13</td>\n",
       "    </tr>\n",
       "    <tr>\n",
       "      <th>Storm Surge/Tide</th>\n",
       "      <td>149</td>\n",
       "      <td>8</td>\n",
       "    </tr>\n",
       "    <tr>\n",
       "      <th>Tornado</th>\n",
       "      <td>5346</td>\n",
       "      <td>1664</td>\n",
       "    </tr>\n",
       "    <tr>\n",
       "      <th>Tropical Depression</th>\n",
       "      <td>69</td>\n",
       "      <td>4</td>\n",
       "    </tr>\n",
       "    <tr>\n",
       "      <th>Tropical Storm</th>\n",
       "      <td>1032</td>\n",
       "      <td>97</td>\n",
       "    </tr>\n",
       "    <tr>\n",
       "      <th>Volcanic Ashfall</th>\n",
       "      <td>65</td>\n",
       "      <td>0</td>\n",
       "    </tr>\n",
       "    <tr>\n",
       "      <th>Waterspout</th>\n",
       "      <td>738</td>\n",
       "      <td>3</td>\n",
       "    </tr>\n",
       "    <tr>\n",
       "      <th>Wildfire</th>\n",
       "      <td>1179</td>\n",
       "      <td>401</td>\n",
       "    </tr>\n",
       "    <tr>\n",
       "      <th>Wind</th>\n",
       "      <td>84177</td>\n",
       "      <td>1110</td>\n",
       "    </tr>\n",
       "    <tr>\n",
       "      <th>Winter Storm</th>\n",
       "      <td>10388</td>\n",
       "      <td>221</td>\n",
       "    </tr>\n",
       "    <tr>\n",
       "      <th>Winter Weather</th>\n",
       "      <td>12804</td>\n",
       "      <td>809</td>\n",
       "    </tr>\n",
       "  </tbody>\n",
       "</table>\n",
       "</div>"
      ],
      "text/plain": [
       "                            EVENT_ID  CASUALTIES\n",
       "EVENT_TYPE                                      \n",
       "Astronomical Low Tide            105           1\n",
       "Avalanche                        111          61\n",
       "Blizzard                        2342          48\n",
       "Cold/Wind Chill                 1438         119\n",
       "Debris Flow                      514         197\n",
       "Dense Fog                       2410         146\n",
       "Dense Smoke                       61           0\n",
       "Drought                         6085           0\n",
       "Dust Devil                        34          26\n",
       "Dust Storm                       239          45\n",
       "Excessive Heat                  1710         704\n",
       "Extreme Cold/Wind Chill         2664          50\n",
       "Flood                          28218         559\n",
       "Freezing Fog                      31           5\n",
       "Frost/Freeze                    2278           0\n",
       "Funnel Cloud                    1155           0\n",
       "Hail                           34563          75\n",
       "Heat                            3356        1030\n",
       "Heavy Rain                      6065          58\n",
       "Heavy Snow                      7480         127\n",
       "High Surf                       1838          70\n",
       "Hurricane                        118         180\n",
       "Hurricane (Typhoon)               22           0\n",
       "Ice Storm                        788         523\n",
       "Lake-Effect Snow                 518          16\n",
       "Lightning                       1393         488\n",
       "Marine Dense Fog                   4           0\n",
       "Marine Hurricane/Typhoon          35           0\n",
       "Marine Tropical Depression         7           0\n",
       "Marine Tropical Storm            125           0\n",
       "Rip Current                      279         328\n",
       "Seiche                             8           0\n",
       "Sleet                             51           4\n",
       "Sneakerwave                        7          13\n",
       "Storm Surge/Tide                 149           8\n",
       "Tornado                         5346        1664\n",
       "Tropical Depression               69           4\n",
       "Tropical Storm                  1032          97\n",
       "Volcanic Ashfall                  65           0\n",
       "Waterspout                       738           3\n",
       "Wildfire                        1179         401\n",
       "Wind                           84177        1110\n",
       "Winter Storm                   10388         221\n",
       "Winter Weather                 12804         809"
      ]
     },
     "execution_count": 39,
     "metadata": {},
     "output_type": "execute_result"
    }
   ],
   "source": [
    "df['EVENT_TYPE'][df['EVENT_TYPE'].str.match(\".*Flood$\")] = \"Flood\"\n",
    "df['EVENT_TYPE'][df['EVENT_TYPE'].str.match(\".*Wind$\")] = \"Wind\"\n",
    "df['EVENT_TYPE'][df['EVENT_TYPE'].str.contains(\".*Hail$\")] = \"Hail\"\n",
    "df.groupby(['EVENT_TYPE']).agg({'CASUALTIES':np.sum, 'EVENT_ID':np.size})"
   ]
  },
  {
   "cell_type": "code",
   "execution_count": 40,
   "metadata": {
    "collapsed": false
   },
   "outputs": [
    {
     "data": {
      "text/plain": [
       "<matplotlib.text.Text at 0x274bda30>"
      ]
     },
     "execution_count": 40,
     "metadata": {},
     "output_type": "execute_result"
    },
    {
     "data": {
      "image/png": "[encoded data removed]",
      "text/plain": [
       "<matplotlib.figure.Figure at 0x147279f0>"
      ]
     },
     "metadata": {},
     "output_type": "display_data"
    }
   ],
   "source": [
    "ax1 = df['EVENT_TYPE'].value_counts().plot(kind='bar',width=1,figsize=(10,4))\n",
    "#ax1 = df['EVENT_TYPE'].value_counts().nlargest(10).plot(kind='bar',width=1,figsize=(10,4)) #Top 10\n",
    "ax1.set_xlabel(\"Event Type\")\n",
    "ax1.set_ylabel(\"Number of Occurrences\")\n",
    "ax1.set_title(\"Storm Events ranked by Number of Occurrences\")"
   ]
  },
  {
   "cell_type": "code",
   "execution_count": 41,
   "metadata": {
    "collapsed": false
   },
   "outputs": [
    {
     "data": {
      "text/plain": [
       "0.4408308625422744"
      ]
     },
     "execution_count": 41,
     "metadata": {},
     "output_type": "execute_result"
    },
    {
     "data": {
      "image/png": "[encoded data removed]",
      "text/plain": [
       "<matplotlib.figure.Figure at 0x28aed8d0>"
      ]
     },
     "metadata": {},
     "output_type": "display_data"
    }
   ],
   "source": [
    "ax2 = df.groupby(['EVENT_TYPE']).sum()['CASUALTIES']\n",
    "ax2 = ax2.sort_values(ascending=False)\n",
    "ax2 = ax2.plot(kind='bar',width=1,figsize=(10,4))\n",
    "ax2.set_xlabel(\"Event Type\")\n",
    "ax2.set_ylabel(\"Number of Casualties\")\n",
    "ax2.set_title(\"Storm Events ranked by Number of Casualties\")\n",
    "#Correlations\n",
    "ax2a = df['EVENT_TYPE'].value_counts()\n",
    "ax2b = df.groupby(['EVENT_TYPE']).sum()['CASUALTIES']\n",
    "ax2a.corr(ax2b)"
   ]
  },
  {
   "cell_type": "code",
   "execution_count": 42,
   "metadata": {
    "collapsed": false
   },
   "outputs": [
    {
     "data": {
      "text/plain": [
       "EPISODE_ID   -0.001220\n",
       "EVENT_ID     -0.001332\n",
       "MAGNITUDE     0.020456\n",
       "TOR_LENGTH    0.215606\n",
       "TOR_WIDTH     0.163094\n",
       "CASUALTIES    1.000000\n",
       "DAMAGES            NaN\n",
       "DURATION      0.003238\n",
       "Name: CASUALTIES, dtype: float64"
      ]
     },
     "execution_count": 42,
     "metadata": {},
     "output_type": "execute_result"
    }
   ],
   "source": [
    "df.corr()['CASUALTIES']"
   ]
  },
  {
   "cell_type": "code",
   "execution_count": 43,
   "metadata": {
    "collapsed": false
   },
   "outputs": [
    {
     "data": {
      "text/plain": [
       "<matplotlib.text.Text at 0x24336170>"
      ]
     },
     "execution_count": 43,
     "metadata": {},
     "output_type": "execute_result"
    },
    {
     "data": {
      "image/png": "[encoded data removed]",
      "text/plain": [
       "<matplotlib.figure.Figure at 0x13887c10>"
      ]
     },
     "metadata": {},
     "output_type": "display_data"
    }
   ],
   "source": [
    "ax3 = df.groupby(['STATE']).sum()['CASUALTIES']\n",
    "ax3 = ax3.sort_values(ascending=False)\n",
    "ax3 = ax3.plot(kind=\"bar\",width=1,figsize=(15,4))\n",
    "ax3.set_xlabel(\"State\")\n",
    "ax3.set_ylabel(\"Number of Casualties\")\n",
    "ax3.set_title(\"States ranked by Number of Casualties\")"
   ]
  },
  {
   "cell_type": "code",
   "execution_count": 91,
   "metadata": {
    "collapsed": false
   },
   "outputs": [
    {
     "name": "stdout",
     "output_type": "stream",
     "text": [
      "((221999, 17), (12816, 11), (0, 12), (34454, 11), (5346, 14))\n"
     ]
    }
   ],
   "source": [
    "tor_factors = ['TOR_F_SCALE','TOR_LENGTH','TOR_WIDTH']\n",
    "\n",
    "df_flood = df[df['EVENT_TYPE']==\"Flood\"].drop(['EVENT_TYPE','MAGNITUDE','MAGNITUDE_TYPE']+tor_factors,axis=1)\n",
    "df_wind = df[df['EVENT_TYPE']==\"Wind\"].drop(['EVENT_TYPE','FLOOD_CAUSE']+tor_factors,axis=1)\n",
    "df_hail = df[df['EVENT_TYPE']==\"Hail\"].drop(['EVENT_TYPE','FLOOD_CAUSE','MAGNITUDE_TYPE']+tor_factors,axis=1)\n",
    "df_tornado = df[df['EVENT_TYPE']==\"Tornado\"].drop(['EVENT_TYPE','MAGNITUDE','MAGNITUDE_TYPE'],axis=1)\n",
    "print(df.shape, df_flood.shape, df_wind.shape, df_hail.shape, df_tornado.shape)"
   ]
  },
  {
   "cell_type": "code",
   "execution_count": 92,
   "metadata": {
    "collapsed": false
   },
   "outputs": [
    {
     "name": "stdout",
     "output_type": "stream",
     "text": [
      "[]\n",
      "['Heavy Rain' 'Heavy Rain / Snow Melt' 'Heavy Rain / Tropical System'\n",
      " 'Ice Jam' 'Planned Dam Release' 'Dam / Levee Break'\n",
      " 'Heavy Rain / Burn Area']\n"
     ]
    }
   ],
   "source": [
    "print(df_wind['MAGNITUDE_TYPE'].unique())\n",
    "print(df_flood['FLOOD_CAUSE'].unique())"
   ]
  },
  {
   "cell_type": "code",
   "execution_count": 96,
   "metadata": {
    "collapsed": false
   },
   "outputs": [
    {
     "name": "stdout",
     "output_type": "stream",
     "text": [
      "((116, 11), (0, 12), (24, 11), (270, 14))\n",
      "[]\n"
     ]
    }
   ],
   "source": [
    "df_flood_fat = df_flood[df_flood['CASUALTIES']>0]\n",
    "df_wind_fat = df_wind[df_wind['CASUALTIES']>0]\n",
    "df_hail_fat = df_hail[df_hail['CASUALTIES']>0]\n",
    "df_tornado_fat = df_tornado[df_tornado['CASUALTIES']>0]\n",
    "print(df_flood_fat.shape, df_wind_fat.shape, df_hail_fat.shape, df_tornado_fat.shape)\n",
    "print(pd.unique(df_wind_fat['DURATION']))"
   ]
  },
  {
   "cell_type": "code",
   "execution_count": 94,
   "metadata": {
    "collapsed": false
   },
   "outputs": [
    {
     "name": "stdout",
     "output_type": "stream",
     "text": [
      "[0. 1.]\n"
     ]
    }
   ],
   "source": [
    "real_df_tor = df_tornado_fat[['TOR_F_SCALE','TOR_LENGTH','TOR_WIDTH','DURATION','CASUALTIES']]\n",
    "real_df_tor.fillna(0, inplace=True)\n",
    "print(pd.unique(real_df_tor['DURATION']))\n",
    "full_x = real_df_tor[['TOR_F_SCALE','TOR_LENGTH','TOR_WIDTH','DURATION']].pipe(\n",
    "    pd.get_dummies,\n",
    "    prefix_sep='_', \n",
    "    drop_first=True\n",
    ")\n",
    "full_y = real_df_tor['CASUALTIES']\n",
    "x_train, x_test, y_train, y_test = train_test_split(full_x, full_y, train_size=0.8, random_state=4741)"
   ]
  },
  {
   "cell_type": "code",
   "execution_count": 97,
   "metadata": {
    "collapsed": false
   },
   "outputs": [
    {
     "name": "stdout",
     "output_type": "stream",
     "text": [
      "('Training accuracy: ', 0.41299144298399637)\n",
      "('Cross validation accuracy: ', array([ -5.96649393,  -9.44852684,  -4.67160542,  -6.10568905,\n",
      "        -6.26905208,  -5.90727474,  -3.88200625,  -2.72959602,\n",
      "        -5.20763937, -10.39602061]))\n"
     ]
    }
   ],
   "source": [
    "model = LinearRegression()\n",
    "model.fit(x_train,y_train)\n",
    "print(\"Training accuracy: \", model.score(x_train, y_train))\n",
    "print(\"Cross validation accuracy: \", cross_val_score(model, full_x, full_y, cv=10, scoring='neg_mean_absolute_error'))"
   ]
  },
  {
   "cell_type": "code",
   "execution_count": 98,
   "metadata": {
    "collapsed": false
   },
   "outputs": [
    {
     "name": "stdout",
     "output_type": "stream",
     "text": [
      "('Training accuracy: ', 0.5159224608682502)\n",
      "('Cross validation accuracy: ', array([-5.82040895, -9.5743729 , -4.77522488, -5.58816872, -7.64537205,\n",
      "       -7.19518541, -2.94857119, -2.75354582, -3.78685047, -9.97638834]))\n"
     ]
    }
   ],
   "source": [
    "model = DecisionTreeRegressor(max_depth=2)\n",
    "model.fit(x_train,y_train)\n",
    "print(\"Training accuracy: \", model.score(x_train, y_train))\n",
    "print(\"Cross validation accuracy: \", cross_val_score(model, full_x, full_y, cv=10, scoring='neg_mean_absolute_error'))"
   ]
  },
  {
   "cell_type": "markdown",
   "metadata": {},
   "source": [
    "# Experimenting with geographic data\n",
    "\n",
    "Using land cover data to understand geography of locations, extract land-cover classification from .tif files."
   ]
  },
  {
   "cell_type": "code",
   "execution_count": 47,
   "metadata": {
    "collapsed": false
   },
   "outputs": [],
   "source": [
    "raw_map = rio.open(\"Data/LandCoverData.tif\")"
   ]
  },
  {
   "cell_type": "markdown",
   "metadata": {},
   "source": [
    "IGBP Classes (1-17 -> 0-16): http://www.eomf.ou.edu/static/IGBP.pdf\n",
    "\n",
    "Source algorithm for classifications in image: https://eospso.nasa.gov/sites/default/files/atbd/atbd_mod12.pdf\n",
    "\n",
    "Source data: https://neo.sci.gsfc.nasa.gov/view.php?datasetId=MCD12C1_T1"
   ]
  },
  {
   "cell_type": "code",
   "execution_count": 48,
   "metadata": {
    "collapsed": false
   },
   "outputs": [
    {
     "name": "stdout",
     "output_type": "stream",
     "text": [
      "('Data/LandCoverData.tif', 1)\n",
      "(1800, 3600)\n",
      "(598, 853)\n",
      "BoundingBox(left=-180.0, bottom=-90.0, right=180.0, top=90.0)\n"
     ]
    }
   ],
   "source": [
    "print(raw_map.name, raw_map.count)\n",
    "print(raw_map.height, raw_map.width) #number of rows, number of columns\n",
    "print(raw_map.index(-94.64,30.11)) #takes longitude, then latitude\n",
    "print(raw_map.bounds)"
   ]
  },
  {
   "cell_type": "code",
   "execution_count": 49,
   "metadata": {
    "collapsed": false
   },
   "outputs": [
    {
     "name": "stdout",
     "output_type": "stream",
     "text": [
      "(1800, 3600)\n",
      "(16, 0)\n"
     ]
    }
   ],
   "source": [
    "rb = raw_map.read(1)\n",
    "x,y = raw_map.index(-94.64,30.11) \n",
    "print(rb.shape)\n",
    "rb[x,y]\n",
    "print(rb.max(), rb.min())"
   ]
  },
  {
   "cell_type": "code",
   "execution_count": null,
   "metadata": {
    "collapsed": true
   },
   "outputs": [],
   "source": []
  }
 ],
 "metadata": {
  "anaconda-cloud": {},
  "kernelspec": {
   "display_name": "Python [Root]",
   "language": "python",
   "name": "Python [Root]"
  },
  "language_info": {
   "codemirror_mode": {
    "name": "ipython",
    "version": 2
   },
   "file_extension": ".py",
   "mimetype": "text/x-python",
   "name": "python",
   "nbconvert_exporter": "python",
   "pygments_lexer": "ipython2",
   "version": "2.7.12"
  }
 },
 "nbformat": 4,
 "nbformat_minor": 0
}
